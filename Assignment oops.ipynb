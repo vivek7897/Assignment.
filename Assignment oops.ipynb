{
 "cells": [
  {
   "cell_type": "code",
   "execution_count": null,
   "id": "a165ad52-f3a8-4fde-aaa3-23bd79c998d6",
   "metadata": {},
   "outputs": [],
   "source": [
    "Q1. Explain Class and Object with respect to Object-Oriented Programming. Give a suitable example."
   ]
  },
  {
   "cell_type": "code",
   "execution_count": null,
   "id": "c9925aed-1bad-4e8b-83d8-cd25f688e87e",
   "metadata": {},
   "outputs": [],
   "source": [
    "# ANSWER\n",
    "Class − A class can be defined as a template/blueprint that describes the behavior/state that the object of its type support.\n",
    "Object − Objects have states and behaviors.\n",
    "Example: A dog has states - color, name, breed as well as behaviors – wagging the tail, barking, eating. An object is an instance of a class."
   ]
  },
  {
   "cell_type": "code",
   "execution_count": null,
   "id": "4e3833fb-85a3-4b67-a5d1-7c85d4d0f5b6",
   "metadata": {},
   "outputs": [],
   "source": [
    "Q2. Name the four pillars of OOPs."
   ]
  },
  {
   "cell_type": "code",
   "execution_count": null,
   "id": "5202dedd-6cda-4fcf-9b39-5adf20ea90ef",
   "metadata": {},
   "outputs": [],
   "source": [
    "# ANSWER\n",
    "The Four Pillars of Object-Oriented Programming\n",
    "\n",
    "Abstraction.\n",
    "Encapsulation.\n",
    "Inheritance.\n",
    "Polymorphism."
   ]
  },
  {
   "cell_type": "code",
   "execution_count": null,
   "id": "3c43d8ff-1ce3-45d3-8706-7d6b153736d4",
   "metadata": {},
   "outputs": [],
   "source": [
    "Q3. Explain why the __init__() function is used. Give a suitable example."
   ]
  },
  {
   "cell_type": "code",
   "execution_count": null,
   "id": "953d23ef-20ac-4028-8aa3-8928da3df4b7",
   "metadata": {},
   "outputs": [],
   "source": [
    "# ANSWER\n",
    "The __init__() Function\n",
    "The examples above are classes and objects in their simplest form, and are not really useful in real life applications.\n",
    "\n",
    "To understand the meaning of classes we have to understand the built-in __init__() function.\n",
    "\n",
    "All classes have a function called __init__(), which is always executed when the class is being initiated.\n",
    "\n",
    "Use the __init__() function to assign values to object properties, or other operations that are necessary to do when the object is being created:"
   ]
  },
  {
   "cell_type": "code",
   "execution_count": 1,
   "id": "979abb2c-e251-4680-a588-c60de829ab13",
   "metadata": {},
   "outputs": [
    {
     "name": "stdout",
     "output_type": "stream",
     "text": [
      "vivek\n",
      "23\n"
     ]
    }
   ],
   "source": [
    "# EXAMPLE\n",
    "class Person:\n",
    "  def __init__(self, name, age):\n",
    "    self.name = name\n",
    "    self.age = age\n",
    "\n",
    "p1 = Person(\"vivek\", 23)\n",
    "\n",
    "print(p1.name)\n",
    "print(p1.age)\n"
   ]
  },
  {
   "cell_type": "code",
   "execution_count": null,
   "id": "bfbacfa1-b98b-4621-abb9-cedc3ddb1de4",
   "metadata": {},
   "outputs": [],
   "source": [
    "Q4. Why self is used in OOPs?"
   ]
  },
  {
   "cell_type": "code",
   "execution_count": null,
   "id": "07567b4f-0bc9-4ba9-9c0e-0b927da9e240",
   "metadata": {},
   "outputs": [],
   "source": [
    "# ANSWER\n",
    "The self variable is used to represent the instance of the class which is often used in object-oriented programming. It works as a reference to the object.\n",
    "Python uses the self parameter to refer to instance attributes and methods of the class."
   ]
  },
  {
   "cell_type": "code",
   "execution_count": null,
   "id": "8f3947d0-e111-41f1-98de-f15aa709ca79",
   "metadata": {},
   "outputs": [],
   "source": [
    "Q5. What is inheritance? Give an example for each type of inheritance."
   ]
  },
  {
   "cell_type": "code",
   "execution_count": null,
   "id": "0c838be1-b1cb-413a-80fb-a542f695d9df",
   "metadata": {},
   "outputs": [],
   "source": [
    "# ANSWER\n",
    "Inheritance allows us to define a class that inherits all the methods and properties from another class.\n",
    "\n",
    "Parent class is the class being inherited from, also called base class.\n",
    "\n",
    "Child class is the class that inherits from another class, also called derived class.\n",
    "\n"
   ]
  },
  {
   "cell_type": "code",
   "execution_count": 13,
   "id": "10ca5ea0-c5d6-4ec3-ba2f-a5442760b244",
   "metadata": {},
   "outputs": [],
   "source": [
    "class A:\n",
    "    def display(self):\n",
    "        print(\"Hello\")\n",
    "    \n",
    "class B(A):\n",
    "    def display(self):\n",
    "        super().display()\n",
    "        print(\"World\")"
   ]
  },
  {
   "cell_type": "code",
   "execution_count": null,
   "id": "ad53f4cc-0983-4ab0-8f0b-9d569f7fc129",
   "metadata": {},
   "outputs": [],
   "source": [
    "# Types of inheritance\n",
    "1- Single Inheritance\n",
    "2- Multiple Inheritance\n",
    "3- Multilevel Inheritance\n",
    "4- Hierarchical Inheritance\n",
    "5- Hybrid Inheritance\n"
   ]
  },
  {
   "cell_type": "code",
   "execution_count": null,
   "id": "8afe423c-f829-4ef8-adc4-53b67b59ef5f",
   "metadata": {},
   "outputs": [],
   "source": [
    "1. Single Inheritance\n",
    "\n",
    "In Single inheritance, one class inherits another single class. \n",
    "It is the very basic inheritance where a single child class inherits the properties and functions of a parent class.\n",
    "\n",
    "The following block diagram illustrates single inheritance in Python:\n",
    "\n",
    "single inheritance\n",
    "Inheritance is referred to as ‘IS A’ relationship, implying that one class should only inherit other if there is a ‘IS A’ relationship between them.\n",
    "\n",
    "Example: Dog is an Animal.\n",
    "\n",
    "By inheriting class A in class B, we can access the properties and function of class A in class B using the super() method.\n"
   ]
  },
  {
   "cell_type": "code",
   "execution_count": 15,
   "id": "f47dd8f8-8998-4b05-93d3-f4f48dedc8cb",
   "metadata": {},
   "outputs": [
    {
     "name": "stdout",
     "output_type": "stream",
     "text": [
      "Hello\n",
      "World\n"
     ]
    }
   ],
   "source": [
    "# Single inheritance\n",
    "class A:\n",
    "    def display(self):\n",
    "        print(\"Hello\")\n",
    "    \n",
    "class B(A):\n",
    "    def display(self):\n",
    "        super().display()\n",
    "        print(\"World\")\n",
    "\n",
    "b = B()\n",
    "b.display()"
   ]
  },
  {
   "cell_type": "code",
   "execution_count": null,
   "id": "500577a0-dcc9-4d6b-b753-ce53ae7d9308",
   "metadata": {},
   "outputs": [],
   "source": [
    "2. Multiple Inheritance\n",
    "In multiple inheritance, one class inherits multiple other classes.\n",
    "In this, the child class has access to the methods and properties of all its parent classes."
   ]
  },
  {
   "cell_type": "code",
   "execution_count": 16,
   "id": "e03314e2-f483-4b0e-abe7-793cb512cba9",
   "metadata": {},
   "outputs": [
    {
     "name": "stdout",
     "output_type": "stream",
     "text": [
      "Hi\n",
      "Bye\n"
     ]
    }
   ],
   "source": [
    "# Multiple inheritance\n",
    "class A:\n",
    "    def sayHi(self):\n",
    "        print(\"Hi\")\n",
    "    \n",
    "class B:\n",
    "    def sayBye(self):\n",
    "        print(\"Bye\")\n",
    "   \n",
    "        \n",
    "class C(A, B):\n",
    "    def display(self):\n",
    "        super().sayHi()\n",
    "        super().sayBye()\n",
    "        \n",
    "c = C()\n",
    "c.display()"
   ]
  },
  {
   "cell_type": "code",
   "execution_count": null,
   "id": "d2781859-a731-4ace-89f8-43fcd4fed83f",
   "metadata": {},
   "outputs": [],
   "source": [
    "3. Multilevel Inheritance\n",
    "In multilevel inheritance, the child class inherits another child class.\n",
    "It is the chain of inheritance in which the parent class is the child of some other class.\n",
    "The multilevel inheritance is useful in representing multiple levels of ‘IS A’ relationships\n",
    "e.g. Animal is a Living being and Dog is an Animal (Here, living being, Animal, and Dog represent class A, class B, and class C respectively)."
   ]
  },
  {
   "cell_type": "code",
   "execution_count": 17,
   "id": "e87bfdfc-66f6-494b-927a-61e851adc8c0",
   "metadata": {},
   "outputs": [
    {
     "name": "stdout",
     "output_type": "stream",
     "text": [
      "Class A\n",
      "Class B\n",
      "Class C\n"
     ]
    }
   ],
   "source": [
    "# Multilevel inheritance\n",
    "class A:\n",
    "    def display(self):\n",
    "        print(\"Class A\")\n",
    "        \n",
    "class B(A):\n",
    "    def display(self):\n",
    "        super().display()\n",
    "        print(\"Class B\")\n",
    "        \n",
    "class C(B):\n",
    "    def display(self):\n",
    "        super().display()\n",
    "        print(\"Class C\")\n",
    "        \n",
    "        \n",
    "c = C()\n",
    "c.display()"
   ]
  },
  {
   "cell_type": "code",
   "execution_count": null,
   "id": "2ab4c3e3-6676-46f8-ab83-6a98b3cbc8f6",
   "metadata": {},
   "outputs": [],
   "source": [
    "4. Hierarchical Inheritance\n",
    "Hierarchical inheritance is a type of inheritance where different multiple classes inherit a single parent class.\n",
    "The hierarchical inheritance is useful in implementing class relationships where more than one class has an ‘IS A’ relationship with a single parent class \n",
    "e.g. Student is a Person and Employee is a Person (Here, Person is the parent class A whereas Student and Employee is class B and class C respectively)."
   ]
  },
  {
   "cell_type": "code",
   "execution_count": 18,
   "id": "e7cfb226-3107-43ba-b6e6-39a423ba5e33",
   "metadata": {},
   "outputs": [
    {
     "name": "stdout",
     "output_type": "stream",
     "text": [
      "Hello from B\n",
      "Hello from C\n"
     ]
    }
   ],
   "source": [
    "# Hierarchical Inheritance\n",
    "class A:\n",
    "    def display(self, output):\n",
    "        print(output)\n",
    "        \n",
    "class B(A):\n",
    "    def display(self):\n",
    "        super().display('Hello from B')\n",
    "        \n",
    "class C(A):\n",
    "    def display(self):\n",
    "        super().display('Hello from C')\n",
    "        \n",
    "b = B()\n",
    "b.display()\n",
    "\n",
    "c = C()\n",
    "c.display()"
   ]
  },
  {
   "cell_type": "code",
   "execution_count": null,
   "id": "315bc773-42e2-4308-bc46-2531a212d689",
   "metadata": {},
   "outputs": [],
   "source": [
    "5. Hybrid Inheritance\n",
    "Hybrid inheritance in Python is a combination of more than one type of inheritance.\n",
    "It is not any sequence or pattern of inheriting classes but is used as a naming convention where more than one type of inheritance is involved.\n",
    "\n"
   ]
  },
  {
   "cell_type": "code",
   "execution_count": 22,
   "id": "cf1e8a39-71e6-495e-8402-dfc301f151f9",
   "metadata": {},
   "outputs": [],
   "source": [
    "# Hybrid Inheritance\n",
    "class A:\n",
    "    def display(self):\n",
    "        print(\"Super Parent display method\")\n",
    "\n",
    "\n",
    "\"\"\" class B used as intermediate class\n",
    "to call class A's display method \"\"\"\n",
    "class B(A):\n",
    "    def display(self):\n",
    "        super().display()\n",
    "\n",
    "''' child classes '''\n",
    "class C(B):\n",
    "    def display(self):\n",
    "        super().display()\n",
    "        print(\"Class C display method\")\n",
    "        \n",
    "class D(B):\n",
    "    def display(self):\n",
    "        super().display()\n",
    "        print(\"Class D display method\")"
   ]
  },
  {
   "cell_type": "code",
   "execution_count": 3,
   "id": "8327ce65-3569-49b6-8d01-a08888a9695a",
   "metadata": {},
   "outputs": [
    {
     "name": "stdout",
     "output_type": "stream",
     "text": [
      "vivek vishwakarma\n"
     ]
    }
   ],
   "source": [
    "# create a Parent Class\n",
    "class Person:\n",
    "  def __init__(self, fname, lname):\n",
    "    self.firstname = fname\n",
    "    self.lastname = lname\n",
    "\n",
    "  def printname(self):\n",
    "    print(self.firstname, self.lastname)\n",
    "\n",
    "#Use the Person class to create an object, and then execute the printname method:\n",
    "\n",
    "x = Person(\"vivek\", \"vishwakarma\")\n",
    "x.printname()"
   ]
  },
  {
   "cell_type": "code",
   "execution_count": null,
   "id": "605f19d4-f967-4ea2-8162-e375a2706f9b",
   "metadata": {},
   "outputs": [],
   "source": []
  },
  {
   "cell_type": "code",
   "execution_count": 5,
   "id": "e800622c-ea75-4cf1-a9d0-074495b90101",
   "metadata": {},
   "outputs": [
    {
     "name": "stdout",
     "output_type": "stream",
     "text": [
      "vivek vishwakarma\n"
     ]
    }
   ],
   "source": [
    "# Create a Child Class\n",
    "class Person:\n",
    "  def __init__(self, fname, lname):\n",
    "    self.firstname = fname\n",
    "    self.lastname = lname\n",
    "\n",
    "  def printname(self):\n",
    "    print(self.firstname, self.lastname)\n",
    "\n",
    "class Student(Person):\n",
    "  pass\n",
    "\n",
    "x = Student(\"vivek\", \"vishwakarma\")\n",
    "x.printname()"
   ]
  },
  {
   "cell_type": "code",
   "execution_count": null,
   "id": "018b0a2f-f1ec-40c0-bb12-e7beaf284296",
   "metadata": {},
   "outputs": [],
   "source": []
  }
 ],
 "metadata": {
  "kernelspec": {
   "display_name": "Python 3 (ipykernel)",
   "language": "python",
   "name": "python3"
  },
  "language_info": {
   "codemirror_mode": {
    "name": "ipython",
    "version": 3
   },
   "file_extension": ".py",
   "mimetype": "text/x-python",
   "name": "python",
   "nbconvert_exporter": "python",
   "pygments_lexer": "ipython3",
   "version": "3.10.8"
  }
 },
 "nbformat": 4,
 "nbformat_minor": 5
}
